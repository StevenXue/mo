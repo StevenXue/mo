{
 "cells": [
  {
   "cell_type": "markdown",
   "metadata": {},
   "source": [
    "# 4_Use_TensorBoard_to_Understand_Debug_and_optimize_TensorFlow_programs"
   ]
  },
  {
   "cell_type": "markdown",
   "metadata": {},
   "source": [
    "我们集成了名为 TensorBoard 的可视化工具，来帮助您理解，调试和优化您的TensorFlow程序。 \n",
    "您可以使用TensorBoard来可视化您的TensorFlow图形，绘制关于图形执行的量化指标，并显示其他数据。\n",
    "下面是一个MNIST的小例子，来帮助您了解并使用 TensorBoard。\n",
    "\n",
    "*Important: 请确保将您的logs文件保存在 `./logs`文件夹下*"
   ]
  },
  {
   "cell_type": "code",
   "execution_count": 1,
   "metadata": {},
   "outputs": [
    {
     "name": "stdout",
     "output_type": "stream",
     "text": [
      "Extracting ./tmp/data/train-images-idx3-ubyte.gz\n",
      "Extracting ./tmp/data/train-labels-idx1-ubyte.gz\n",
      "Extracting ./tmp/data/t10k-images-idx3-ubyte.gz\n",
      "Extracting ./tmp/data/t10k-labels-idx1-ubyte.gz\n",
      "Epoch: 0001 cost= 1.183653277\n",
      "Epoch: 0002 cost= 0.665266814\n",
      "Epoch: 0003 cost= 0.552696104\n",
      "Epoch: 0004 cost= 0.498522807\n",
      "Epoch: 0005 cost= 0.465410931\n",
      "Epoch: 0006 cost= 0.442538291\n",
      "Epoch: 0007 cost= 0.425468006\n",
      "Epoch: 0008 cost= 0.412111081\n",
      "Epoch: 0009 cost= 0.401391366\n",
      "Epoch: 0010 cost= 0.392365176\n",
      "Epoch: 0011 cost= 0.384755743\n",
      "Epoch: 0012 cost= 0.378185968\n",
      "Epoch: 0013 cost= 0.372429544\n",
      "Epoch: 0014 cost= 0.367311060\n",
      "Epoch: 0015 cost= 0.362732099\n",
      "Epoch: 0016 cost= 0.358580897\n",
      "Epoch: 0017 cost= 0.354855532\n",
      "Epoch: 0018 cost= 0.351457369\n",
      "Epoch: 0019 cost= 0.348307079\n",
      "Epoch: 0020 cost= 0.345436401\n",
      "Epoch: 0021 cost= 0.342750962\n",
      "Epoch: 0022 cost= 0.340235087\n",
      "Epoch: 0023 cost= 0.337916244\n",
      "Epoch: 0024 cost= 0.335736679\n",
      "Epoch: 0025 cost= 0.333718029\n",
      "Optimization Finished!\n",
      "Accuracy: 0.9137\n"
     ]
    }
   ],
   "source": [
    "from __future__ import print_function\n",
    "\n",
    "import tensorflow as tf\n",
    "\n",
    "# Import MNIST data\n",
    "from tensorflow.examples.tutorials.mnist import input_data\n",
    "mnist = input_data.read_data_sets(\"./tmp/data/\", one_hot=True)\n",
    "\n",
    "# Parameters\n",
    "learning_rate = 0.01\n",
    "training_epochs = 25\n",
    "batch_size = 100\n",
    "display_epoch = 1\n",
    "# ！Important！\n",
    "# *您需要将logs文件存储到`/logs`文件夹下*\n",
    "logs_path = './logs/tutorial4/'\n",
    "\n",
    "# tf Graph Input\n",
    "# mnist data image of shape 28*28=784\n",
    "x = tf.placeholder(tf.float32, [None, 784], name='InputData')\n",
    "# 0-9 digits recognition => 10 classes\n",
    "y = tf.placeholder(tf.float32, [None, 10], name='LabelData')\n",
    "\n",
    "# Set model weights\n",
    "W = tf.Variable(tf.zeros([784, 10]), name='Weights')\n",
    "b = tf.Variable(tf.zeros([10]), name='Bias')\n",
    "\n",
    "# Construct model and encapsulating all ops into scopes, making\n",
    "# Tensorboard's Graph visualization more convenient\n",
    "with tf.name_scope('Model'):\n",
    "    # Model\n",
    "    pred = tf.nn.softmax(tf.matmul(x, W) + b) # Softmax\n",
    "with tf.name_scope('Loss'):\n",
    "    # Minimize error using cross entropy\n",
    "    cost = tf.reduce_mean(-tf.reduce_sum(y*tf.log(pred), reduction_indices=1))\n",
    "with tf.name_scope('SGD'):\n",
    "    # Gradient Descent\n",
    "    optimizer = tf.train.GradientDescentOptimizer(learning_rate).minimize(cost)\n",
    "with tf.name_scope('Accuracy'):\n",
    "    # Accuracy\n",
    "    acc = tf.equal(tf.argmax(pred, 1), tf.argmax(y, 1))\n",
    "    acc = tf.reduce_mean(tf.cast(acc, tf.float32))\n",
    "\n",
    "# Initialize the variables (i.e. assign their default value)\n",
    "init = tf.global_variables_initializer()\n",
    "\n",
    "# Create a summary to monitor cost tensor\n",
    "tf.summary.scalar(\"loss\", cost)\n",
    "# Create a summary to monitor accuracy tensor\n",
    "tf.summary.scalar(\"accuracy\", acc)\n",
    "# Merge all summaries into a single op\n",
    "merged_summary_op = tf.summary.merge_all()\n",
    "\n",
    "# Start training\n",
    "with tf.Session() as sess:\n",
    "\n",
    "    # Run the initializer\n",
    "    sess.run(init)\n",
    "\n",
    "    # op to write logs to Tensorboard\n",
    "    summary_writer = tf.summary.FileWriter(logs_path, graph=tf.get_default_graph())\n",
    "\n",
    "    # Training cycle\n",
    "    for epoch in range(training_epochs):\n",
    "        avg_cost = 0.\n",
    "        total_batch = int(mnist.train.num_examples/batch_size)\n",
    "        # Loop over all batches\n",
    "        for i in range(total_batch):\n",
    "            batch_xs, batch_ys = mnist.train.next_batch(batch_size)\n",
    "            # Run optimization op (backprop), cost op (to get loss value)\n",
    "            # and summary nodes\n",
    "            _, c, summary = sess.run([optimizer, cost, merged_summary_op],\n",
    "                                     feed_dict={x: batch_xs, y: batch_ys})\n",
    "            # Write logs at every iteration\n",
    "            summary_writer.add_summary(summary, epoch * total_batch + i)\n",
    "            # Compute average loss\n",
    "            avg_cost += c / total_batch\n",
    "        # Display logs per epoch step\n",
    "        if (epoch+1) % display_epoch == 0:\n",
    "            print(\"Epoch:\", '%04d' % (epoch+1), \"cost=\", \"{:.9f}\".format(avg_cost))\n",
    "\n",
    "    print(\"Optimization Finished!\")\n",
    "\n",
    "    # Test model\n",
    "    # Calculate accuracy\n",
    "    print(\"Accuracy:\", acc.eval({x: mnist.test.images, y: mnist.test.labels}))\n"
   ]
  },
  {
   "cell_type": "markdown",
   "metadata": {},
   "source": [
    "## 查看您的模型结构和训练情况\n",
    "现在，来查看您的模型的结构和训练情况吧。\n",
    "\n",
    "<img src=\"./media/tensorboard.gif\" width=\"70%\" height=\"70%\" />  \n"
   ]
  },
  {
   "cell_type": "markdown",
   "metadata": {},
   "source": [
    "更多关于TensorBoard的信息请参考 https://www.tensorflow.org/programmers_guide/summaries_and_tensorboard 和\n",
    "https://github.com/tensorflow/tensorboard"
   ]
  }
 ],
 "metadata": {
  "kernelspec": {
   "display_name": "Python 3",
   "language": "python",
   "name": "python3"
  },
  "language_info": {
   "codemirror_mode": {
    "name": "ipython",
    "version": 3
   },
   "file_extension": ".py",
   "mimetype": "text/x-python",
   "name": "python",
   "nbconvert_exporter": "python",
   "pygments_lexer": "ipython3",
   "version": "3.6.3"
  }
 },
 "nbformat": 4,
 "nbformat_minor": 2
}
