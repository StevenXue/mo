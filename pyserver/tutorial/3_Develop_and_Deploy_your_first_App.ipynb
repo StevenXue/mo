{
 "cells": [
  {
   "cell_type": "markdown",
   "metadata": {},
   "source": [
    "# 开发并部署您的第一个项目"
   ]
  },
  {
   "cell_type": "markdown",
   "metadata": {},
   "source": [
    "本节将引导您使用他人分享的module开发并部署一个识别Iris种类的APP。"
   ]
  },
  {
   "cell_type": "markdown",
   "metadata": {},
   "source": [
    "您新建的任何app notebook都默认下面这个cell，引入一些默认的包、Client和其他一些控制文件。"
   ]
  },
  {
   "cell_type": "code",
   "execution_count": 14,
   "metadata": {},
   "outputs": [],
   "source": [
    "# You can use other public modules via our Client object with module's identifier \n",
    "# and parameters.\n",
    "# For more detailes, please see our online document - https://momodel.github.io/mo/#\n",
    "\n",
    "import os\n",
    "import sys\n",
    "\n",
    "# Define root path\n",
    "sys.path.append('../')\n",
    "\n",
    "# Import necessary packages\n",
    "from modules import json_parser\n",
    "from modules import Client\n",
    "\n",
    "# Initialise Client object\n",
    "client = Client(api_key='5asdfoasd0fnd0983', project_id='5af2abafe13823a5f1687062', user_ID='zhaofengli',\n",
    "                project_type='app', source_file_path='3_Develop_and_Deploy_your_first_App.ipynb')\n",
    "\n",
    "# Make run/train/predict commnad alias for furthur use\n",
    "run = client.run\n",
    "train = client.train\n",
    "predict = client.predict\n",
    "\n",
    "# Run a importred module \n",
    "# e.g. \n",
    "#      conf = json_parser('{\"rgb_image\":null,\"gray_image\":null}') \n",
    "#      result = run('zhaofengli/new_gender_classifier/0.0.2', conf)\n",
    "#\n",
    "# 'conf' is the parameters in dict form for the imported module\n",
    "# '[user_id]/[imported_module_name]/[version]' is the identifier of the imported module\n",
    "\n",
    "\n",
    "# Make controller alias for further use\n",
    "controller = client.controller\n",
    "\n",
    "# IMPORTANT: Add 'work_path' to the head of every file path in your code.\n",
    "# e.g.\n",
    "#      jpgfile = Image.open(work_path + \"picture.jpg\") \n",
    "work_path = './'"
   ]
  },
  {
   "cell_type": "markdown",
   "metadata": {},
   "source": [
    "## 调用他人分享的模块"
   ]
  },
  {
   "cell_type": "markdown",
   "metadata": {},
   "source": [
    "点击 Modules 面板（右侧），选择iris_classifier_toolokit,点击 run 按钮，点击 Import Module，将其引入到您的工作区中。 "
   ]
  },
  {
   "cell_type": "markdown",
   "metadata": {},
   "source": [
    "# iris_classifier_toolkit/1.0.0## Overview\n",
    "\n",
    "Predict the class of an iris flower by its Petal Length,Petal Width,Sepal Length,Sepal width.\n",
    "\n",
    "## Usage\n",
    "\n",
    "### Input\n",
    "\n",
    "Input the four features of an iris flower\n",
    "\n",
    "| Parameter | Description |\n",
    "| --------- | ----------- |\n",
    "| Petal Length     |  unit cm|\n",
    "| Petal Width     | unit cm |\n",
    "| Sepal Length    |unit cm|\n",
    "|  Sepal width    | unit cm |\n",
    "\n",
    "### Output\n",
    "\n",
    "Output the class of the iris flower.\n",
    "\n",
    "| Parameter | Description | \n",
    "| --------- | ----------- | \n",
    "| Class     | number in [0,1,2]  | \n",
    "\n",
    "0 : setosa\n",
    "1: versicolor\n",
    "2: virginica"
   ]
  },
  {
   "cell_type": "code",
   "execution_count": 15,
   "metadata": {},
   "outputs": [
    {
     "name": "stdout",
     "output_type": "stream",
     "text": [
      "{'petal_length': 4.9, 'petal_width': 3.6, 'sepal_length': 1.4, 'sepal_width': 0.1}\n"
     ]
    }
   ],
   "source": [
    "conf = '{\"petal_length\":4.9,\"petal_width\":3.6,\"sepal_length\":1.4,\"sepal_width\":0.1}'\n",
    "conf = json_parser(conf)\n",
    "print(conf)"
   ]
  },
  {
   "cell_type": "code",
   "execution_count": null,
   "metadata": {},
   "outputs": [],
   "source": [
    "result = run('zhaofengli/iris_classifier_toolkit/1.0.0', conf)"
   ]
  },
  {
   "cell_type": "code",
   "execution_count": 17,
   "metadata": {},
   "outputs": [
    {
     "data": {
      "text/plain": [
       "array([0])"
      ]
     },
     "execution_count": 17,
     "metadata": {},
     "output_type": "execute_result"
    }
   ],
   "source": [
    "result"
   ]
  },
  {
   "cell_type": "markdown",
   "metadata": {},
   "source": [
    "## 编写您的App"
   ]
  },
  {
   "cell_type": "markdown",
   "metadata": {},
   "source": [
    "将Module的结果0，1，2，转为setosa，versicolor，virginica，方便用户使用。"
   ]
  },
  {
   "cell_type": "code",
   "execution_count": 18,
   "metadata": {},
   "outputs": [],
   "source": [
    "iris_class=['setosa','versicolor','virginica']"
   ]
  },
  {
   "cell_type": "code",
   "execution_count": 19,
   "metadata": {},
   "outputs": [],
   "source": [
    "result = iris_class[result[0]]"
   ]
  },
  {
   "cell_type": "code",
   "execution_count": 20,
   "metadata": {},
   "outputs": [
    {
     "data": {
      "text/plain": [
       "'setosa'"
      ]
     },
     "execution_count": 20,
     "metadata": {},
     "output_type": "execute_result"
    }
   ],
   "source": [
    "result"
   ]
  },
  {
   "cell_type": "markdown",
   "metadata": {},
   "source": [
    "## 部署您的App"
   ]
  },
  {
   "cell_type": "markdown",
   "metadata": {},
   "source": [
    "**1. 导出代码为Python文件**\n",
    "\n",
    "Notebook 中的代码是在*.ipynb文件下的，为之后的部署做准备，点击将其转为.py格式的标准python代码。然后整理您的代码，完成测试后，即可进行下一步的操作。\n",
    "\n",
    "*我们已经为您准备好了一份整理好的 tutorial.py 文件。*\n",
    "\n",
    "<img src=\"./media/Python.png\" width=\"70%\" height=\"70%\" />\n",
    "\n",
    "**2.  修改配置文件**\n",
    "插入模块时系统会自动生成一个包含所用到的格式为.yaml的输入输出的配置文件。修改此文件，定义您app的输入和输出参数。\n",
    "\n",
    "*我们已经为您准备好了一份整理好的 app_spec.yml 文件。*\n"
   ]
  },
  {
   "cell_type": "markdown",
   "metadata": {},
   "source": [
    "**3.  部署项目**\n",
    "\n",
    "点击部署。\n",
    "\n",
    "<img src=\"./media/deploy.png\" width=\"50%\" height=\"50%\" />"
   ]
  },
  {
   "cell_type": "markdown",
   "metadata": {},
   "source": [
    "选择 tutorial.py 作为 主文件。点击部署，您将跳转到您的App详情页，开始使用您的第一次。恭喜您，您已经完成了您的第一次部署。\n",
    "\n",
    "<img src=\"./media/deploy_choose_file.png\" width=\"25%\" height=\"25%\" />"
   ]
  },
  {
   "cell_type": "markdown",
   "metadata": {},
   "source": []
  }
 ],
 "metadata": {
  "kernelspec": {
   "display_name": "Python 3",
   "language": "python",
   "name": "python3"
  },
  "language_info": {
   "codemirror_mode": {
    "name": "ipython",
    "version": 3
   },
   "file_extension": ".py",
   "mimetype": "text/x-python",
   "name": "python",
   "nbconvert_exporter": "python",
   "pygments_lexer": "ipython3",
   "version": "3.6.3"
  }
 },
 "nbformat": 4,
 "nbformat_minor": 2
}
