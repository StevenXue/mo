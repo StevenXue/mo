{
 "cells": [
  {
   "cell_type": "markdown",
   "metadata": {},
   "source": [
    "# 进阶开发功能介绍\n",
    "\n",
    "> * 使用tensorboard查看训练状态\n",
    "> * 使用Capture Output处理需要长运行的代码\n",
    "> * 使用client管理您的代码"
   ]
  },
  {
   "cell_type": "markdown",
   "metadata": {},
   "source": [
    "## 使用tensorboard查看训练状态\n",
    "\n",
    "在notebook中进行tensorflow模型训练的时候，您可以使用tensorboard来展现你的 TensorFlow 图像，绘制图像生成的定量指标图以及附加数据。\n",
    "\n",
    "*您需要将tensorflow的日志文件存放在 /logs/[yourjob name]文件夹中。*\n",
    "\n",
    "1 您可以使用点击Running 面板（左侧）的View Runnings 按钮来查看tensorboard。\n",
    "\n",
    "<img src=\"./media/tensorboard.gif\" width=\"70%\" height=\"70%\" />  \n",
    "\n",
    "\n",
    "2 您也可以在工作区的项目详情-任务页面中，点击jobs visualization 来查看训练状态。\n",
    "\n",
    "当 TensorBoard 设置完成后，它是这样子的：\n",
    "\n",
    "<img src=\"./media/mnist_tensorboard.png\" width=\"70%\" height=\"70%\" />  \n",
    "\n",
    "下图动态的展示了Tensorboard的使用过程。\n",
    "\n",
    "<img src=\"./media/tensorboard_animation.gif\" width=\"70%\" height=\"70%\" />  \n",
    "\n"
   ]
  },
  {
   "cell_type": "markdown",
   "metadata": {},
   "source": [
    "## 使用Capture Output处理需要长运行的代码\n",
    "\n",
    "当有代码需要很长的运行时间时，点击 Capture Output 选项在工作区插入代码以获取并存储产运行程序的结果，这样您可以关闭网页，运行结束后系统会自动通知您，当您再次打开页面时即可以读取运行结果。\n",
    "\n",
    "<img src=\"./media/capture output.png\" width=\"70%\" height=\"70%\" />\n",
    "\n",
    "调取时点击 Restore Output 再次插入代码，之前存储的结果就会被自动读取。\n",
    "\n",
    "<img src=\"./media/restore output.png\" width=\"70%\" height=\"70%\" />"
   ]
  },
  {
   "cell_type": "markdown",
   "metadata": {},
   "source": [
    "## 使用client管理您的代码\n",
    " MO平台使用client来实现在App和Module中调用他人分享的Module和Dataset，另外，client还包含controller funtion功能，可以用来监控您的module和function的运行状态。\n",
    " 有了client，您可以方便的对您的project进行智能化的管理。\n",
    "\n",
    " \n",
    " *目前，此功能仍在持续开发中。*\n",
    " "
   ]
  },
  {
   "cell_type": "code",
   "execution_count": null,
   "metadata": {},
   "outputs": [],
   "source": []
  }
 ],
 "metadata": {
  "kernelspec": {
   "display_name": "Python 3",
   "language": "python",
   "name": "python3"
  },
  "language_info": {
   "codemirror_mode": {
    "name": "ipython",
    "version": 3
   },
   "file_extension": ".py",
   "mimetype": "text/x-python",
   "name": "python",
   "nbconvert_exporter": "python",
   "pygments_lexer": "ipython3",
   "version": "3.6.3"
  }
 },
 "nbformat": 4,
 "nbformat_minor": 2
}
