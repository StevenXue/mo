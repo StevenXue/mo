{
 "cells": [
  {
   "cell_type": "markdown",
   "metadata": {},
   "source": [
    "# 开发环境介绍\n",
    "> * 工作区介绍\n",
    "> * 基本功能介绍\n",
    "> * 调用已公开模块\n",
    "> * 部署已完成项目"
   ]
  },
  {
   "cell_type": "markdown",
   "metadata": {},
   "source": [
    "# 工作区\n",
    "\n",
    "Workspace是一个基于交互式环境 [Jupyter Lab](https://blog.jupyter.org/jupyterlab-is-ready-for-users-5a6f039b8906) 交互式环境,用于开发和运行代码。 你可以运行Jupyter notebook，Python脚本等等。 您的工作空间中的所有文件和数据将在重新启动后为您保留。 您可以将其视为您的云计算机。\n",
    "\n",
    "\n",
    "*目前，您只能在一个项目中创建一个工作区。*\n",
    "\n",
    "<img src=\"./media/workspace.png\" width=\"100%\" height=\"100%\" />"
   ]
  },
  {
   "cell_type": "markdown",
   "metadata": {},
   "source": [
    "## 基本功能介绍\n",
    "\n",
    "**1. 上传代码和数据集到开发环境**\n",
    "\n",
    "对于本地存储的相关资料，如代码和数据集，您需要将其打包成压缩包再上传至开发环境，点击“上传”按钮，压缩包将被导入notebook，输入“!unzip -o filename.zip”并点击运行按钮解压文件。\n",
    "\n",
    "<img src=\"./media/upload.png\" width=\"50%\" height=\"50%\" />\n",
    "\n",
    "\n",
    "**2. 同步代码到git**\n",
    "\n",
    "平台集成了基于 git 的分布式版本管理工具，会给每个项目创建一个 git 仓库，点击“同步”按钮进行 commit 和 update 操作，每一次应用/模块的部署、发布也将绑定和发布一个 commit，方便日后进行回滚等版本管理的操作。\n",
    "\n",
    "<img src=\"./media/git.png\" width=\"50%\" height=\"50%\" />\n",
    "\n",
    "\n",
    "**3. 文件管理**\n",
    "\n",
    "您可以在左侧文件浏览模块浏览文件，双击打开文件。右键文件或文件夹，对文件进行重命名，复制粘贴等操作。按住文件拖拽移动文件或文件夹。\n",
    "\n",
    "**4. 包管理**\n",
    "\n",
    "若您在 Notebook 中写代码时发现需要安装环境缺失的Python 包，输入 !pip install xxx_package 进行安装\n"
   ]
  },
  {
   "cell_type": "markdown",
   "metadata": {},
   "source": [
    "## 调用已公开模块\n",
    "\n",
    "首先您可以在发现页面寻找自己需要的模块和数据集并收藏，这样可以在调用时更加方便。\n",
    "\n",
    "进入 Notebook 之后，最右侧标签栏目包含平台中所有的模块与数据集列表，您可以进行筛选并查找。\n",
    "\n",
    "**1. 训练优化模块**\n",
    "\n",
    "点击需要的模块后查看使用说明，点击“训练”按钮，按照输入框后的提示将模块需要的参数填写完整，点击插入代码按钮，相应的代码块会自动插入到工作区。之后在工作区中运行即可开始对模块进行训练优化。\n",
    "\n",
    "<img src=\"./media/train.gif\" width=\"40%\" height=\"40%\" />\n",
    "\n",
    "**2. 读取模块训练结果**\n",
    "\n",
    "训练完成后点击“预测”按钮，填写完整参数后点击插入代码，读取训练的参数结果，完成模块的调用。\n",
    "\n",
    "<img src=\"./media/predict.gif\" width=\"40%\" height=\"40%\" />\n",
    "\n"
   ]
  },
  {
   "cell_type": "markdown",
   "metadata": {},
   "source": [
    "## 部署已完成项目\n",
    "\n",
    "训练完成的应用或模块如果想要提供给他人使用，需要将其进行部署，分为三个步骤：\n",
    "\n",
    "**1. 导出代码为Python文件**\n",
    "\n",
    "Notebook 中的代码是在*.ipynb文件下的，为之后的部署做准备，您可以点击将其转为.py格式的标准python代码。\n",
    "\n",
    "<img src=\"./media/Python.png\" width=\"70%\" height=\"70%\" />\n",
    "\n",
    "**2.  修改配置文件**\n",
    "插入模块时系统会自动生成一个包含所用到的输入输出的配置文件，您仅需要对其中的内容进行筛选即可。\n",
    "\n",
    "\n",
    "**3.  部署项目**\n",
    "点击部署按钮并添加描述即可。其中，部署完成后应用可以进行线上试用（请确保你将要部署的文件是.py格式的python代码）。\n",
    "\n",
    "<img src=\"./media/deploy.png\" width=\"50%\" height=\"50%\" />"
   ]
  }
 ],
 "metadata": {
  "kernelspec": {
   "display_name": "Python 3",
   "language": "python",
   "name": "python3"
  },
  "language_info": {
   "codemirror_mode": {
    "name": "ipython",
    "version": 3
   },
   "file_extension": ".py",
   "mimetype": "text/x-python",
   "name": "python",
   "nbconvert_exporter": "python",
   "pygments_lexer": "ipython3",
   "version": "3.6.3"
  }
 },
 "nbformat": 4,
 "nbformat_minor": 2
}
