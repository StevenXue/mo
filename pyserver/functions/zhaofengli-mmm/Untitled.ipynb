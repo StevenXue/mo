{
 "cells": [
  {
   "cell_type": "code",
   "execution_count": 1,
   "metadata": {},
   "outputs": [],
   "source": [
    "# Please use current (work) folder to store your data and models\n",
    "import os\n",
    "import sys\n",
    "sys.path.append('../')\n",
    "\n",
    "from modules import json_parser\n",
    "from modules import Client\n",
    "\n",
    "client = Client('fackAPI')\n",
    "run = client.run\n",
    "train = client.train\n",
    "predict = client.predict"
   ]
  },
  {
   "cell_type": "code",
   "execution_count": 3,
   "metadata": {},
   "outputs": [],
   "source": [
    "import pandas as pd\n",
    "\n",
    "weather_predict = pd.DataFrame([weather_predict])\n",
    "weather_predict = weather_predict.to_dict()"
   ]
  },
  {
   "cell_type": "code",
   "execution_count": 4,
   "metadata": {},
   "outputs": [
    {
     "name": "stdout",
     "output_type": "stream",
     "text": [
      "[1.0]\n"
     ]
    },
    {
     "name": "stderr",
     "output_type": "stream",
     "text": [
      "/opt/conda/lib/python3.6/site-packages/sklearn/base.py:315: UserWarning: Trying to unpickle estimator Imputer from version 0.19.1 when using version 0.18.2. This might lead to breaking code or invalid results. Use at your own risk.\n",
      "  UserWarning)\n",
      "/opt/conda/lib/python3.6/site-packages/sklearn/base.py:315: UserWarning: Trying to unpickle estimator StandardScaler from version 0.19.1 when using version 0.18.2. This might lead to breaking code or invalid results. Use at your own risk.\n",
      "  UserWarning)\n",
      "/opt/conda/lib/python3.6/site-packages/sklearn/base.py:315: UserWarning: Trying to unpickle estimator Pipeline from version 0.19.1 when using version 0.18.2. This might lead to breaking code or invalid results. Use at your own risk.\n",
      "  UserWarning)\n",
      "/opt/conda/lib/python3.6/site-packages/sklearn/base.py:315: UserWarning: Trying to unpickle estimator OneHotEncoder from version 0.19.1 when using version 0.18.2. This might lead to breaking code or invalid results. Use at your own risk.\n",
      "  UserWarning)\n",
      "/opt/conda/lib/python3.6/site-packages/sklearn/base.py:315: UserWarning: Trying to unpickle estimator LogisticRegression from version 0.19.1 when using version 0.18.2. This might lead to breaking code or invalid results. Use at your own risk.\n",
      "  UserWarning)\n"
     ]
    }
   ],
   "source": [
    "# conf = '[{\"default\":null,\"des\":\"\",\"name\":\"DayofMonth,\",\"range\":null,\"required\":false,\"type\":\"input\",\"value\":null,\"value_type\":\"int\"},{\"default\":null,\"des\":\"\",\"name\":\"DewPointFarenheit_x\",\"range\":null,\"required\":false,\"type\":\"input\",\"value\":null,\"value_type\":\"float\"},{\"default\":null,\"des\":\"\",\"name\":\"DewPointCelsius_x\",\"range\":null,\"required\":false,\"type\":\"input\",\"value\":null,\"value_type\":\"float\"},{\"default\":null,\"des\":\"\",\"name\":\"RelativeHumidity_x\",\"range\":null,\"required\":false,\"type\":\"input\",\"value\":null,\"value_type\":\"float\"},{\"default\":null,\"des\":\"\",\"name\":\"WindSpeed_x\",\"range\":null,\"required\":false,\"type\":\"input\",\"value\":null,\"value_type\":\"float\"},{\"default\":null,\"des\":\"\",\"name\":\"Altimeter_x\",\"range\":null,\"required\":false,\"type\":\"input\",\"value\":null,\"value_type\":\"float\"},{\"default\":null,\"des\":\"\",\"name\":\"Visibility_y\",\"range\":null,\"required\":false,\"type\":\"input\",\"value\":null,\"value_type\":\"float\"},{\"default\":null,\"des\":\"\",\"name\":\"DryBulbFarenheit_y\",\"range\":null,\"required\":false,\"type\":\"input\",\"value\":null,\"value_type\":\"float\"},{\"default\":null,\"des\":\"\",\"name\":\"DryBulbCelsius_y\",\"range\":null,\"required\":false,\"type\":\"input\",\"value\":null,\"value_type\":\"float\"},{\"default\":null,\"des\":\"\",\"name\":\"DewPointFarenheit_y\",\"range\":null,\"required\":false,\"type\":\"input\",\"value\":null,\"value_type\":\"float\"},{\"default\":null,\"des\":\"\",\"name\":\"DewPointCelsius_y\",\"range\":null,\"required\":false,\"type\":\"input\",\"value\":null,\"value_type\":\"float\"},{\"default\":null,\"des\":\"\",\"name\":\"DayOfWeek\",\"range\":null,\"required\":false,\"type\":\"input\",\"value\":null,\"value_type\":\"int\"},{\"default\":null,\"des\":\"\",\"name\":\"RelativeHumidity_y\",\"range\":null,\"required\":false,\"type\":\"input\",\"value\":null,\"value_type\":\"float\"},{\"default\":null,\"des\":\"\",\"name\":\"WindSpeed_y\",\"range\":null,\"required\":false,\"type\":\"input\",\"value\":null,\"value_type\":\"float\"},{\"default\":null,\"des\":\"\",\"name\":\"Altimeter_y\",\"range\":null,\"required\":false,\"type\":\"input\",\"value\":null,\"value_type\":\"float\"},{\"default\":null,\"des\":\"\",\"name\":\"OriginAirportID\",\"range\":null,\"required\":false,\"type\":\"input\",\"value\":null,\"value_type\":\"int\"},{\"default\":null,\"des\":\"\",\"name\":\"DestAirportID\",\"range\":null,\"required\":false,\"type\":\"input\",\"value\":null,\"value_type\":\"int\"},{\"default\":null,\"des\":\"\",\"name\":\"CRSDepTime\",\"range\":null,\"required\":false,\"type\":\"input\",\"value\":null,\"value_type\":\"int\"},{\"default\":null,\"des\":\"\",\"name\":\"CRSArrTime\",\"range\":null,\"required\":false,\"type\":\"input\",\"value\":null,\"value_type\":\"int\"},{\"default\":null,\"des\":\"\",\"name\":\"Visibility_x\",\"range\":null,\"required\":false,\"type\":\"input\",\"value\":null,\"value_type\":\"float\"},{\"default\":null,\"des\":\"\",\"name\":\"DryBulbFarenheit_x\",\"range\":null,\"required\":false,\"type\":\"input\",\"value\":null,\"value_type\":\"float\"},{\"default\":null,\"des\":\"\",\"name\":\"DryBulbCelsius_x\",\"range\":null,\"required\":false,\"type\":\"input\",\"value\":null,\"value_type\":\"float\"}]'\n",
    "# conf = json_parser(conf)\n",
    "result = predict('zhaofengli/flight_delay_prediction', weather_predict)\n",
    "print(result.tolist())"
   ]
  },
  {
   "cell_type": "code",
   "execution_count": null,
   "metadata": {},
   "outputs": [],
   "source": [
    "conf = '[{\"default\":null,\"des\":\"\",\"name\":\"DayofMonth,\",\"range\":null,\"required\":false,\"type\":\"input\",\"value\":null,\"value_type\":\"int\"},{\"default\":null,\"des\":\"\",\"name\":\"DewPointFarenheit_x\",\"range\":null,\"required\":false,\"type\":\"input\",\"value\":null,\"value_type\":\"float\"},{\"default\":null,\"des\":\"\",\"name\":\"DewPointCelsius_x\",\"range\":null,\"required\":false,\"type\":\"input\",\"value\":null,\"value_type\":\"float\"},{\"default\":null,\"des\":\"\",\"name\":\"RelativeHumidity_x\",\"range\":null,\"required\":false,\"type\":\"input\",\"value\":null,\"value_type\":\"float\"},{\"default\":null,\"des\":\"\",\"name\":\"WindSpeed_x\",\"range\":null,\"required\":false,\"type\":\"input\",\"value\":null,\"value_type\":\"float\"},{\"default\":null,\"des\":\"\",\"name\":\"Altimeter_x\",\"range\":null,\"required\":false,\"type\":\"input\",\"value\":null,\"value_type\":\"float\"},{\"default\":null,\"des\":\"\",\"name\":\"Visibility_y\",\"range\":null,\"required\":false,\"type\":\"input\",\"value\":null,\"value_type\":\"float\"},{\"default\":null,\"des\":\"\",\"name\":\"DryBulbFarenheit_y\",\"range\":null,\"required\":false,\"type\":\"input\",\"value\":null,\"value_type\":\"float\"},{\"default\":null,\"des\":\"\",\"name\":\"DryBulbCelsius_y\",\"range\":null,\"required\":false,\"type\":\"input\",\"value\":null,\"value_type\":\"float\"},{\"default\":null,\"des\":\"\",\"name\":\"DewPointFarenheit_y\",\"range\":null,\"required\":false,\"type\":\"input\",\"value\":null,\"value_type\":\"float\"},{\"default\":null,\"des\":\"\",\"name\":\"DewPointCelsius_y\",\"range\":null,\"required\":false,\"type\":\"input\",\"value\":null,\"value_type\":\"float\"},{\"default\":null,\"des\":\"\",\"name\":\"DayOfWeek\",\"range\":null,\"required\":false,\"type\":\"input\",\"value\":null,\"value_type\":\"int\"},{\"default\":null,\"des\":\"\",\"name\":\"RelativeHumidity_y\",\"range\":null,\"required\":false,\"type\":\"input\",\"value\":null,\"value_type\":\"float\"},{\"default\":null,\"des\":\"\",\"name\":\"WindSpeed_y\",\"range\":null,\"required\":false,\"type\":\"input\",\"value\":null,\"value_type\":\"float\"},{\"default\":null,\"des\":\"\",\"name\":\"Altimeter_y\",\"range\":null,\"required\":false,\"type\":\"input\",\"value\":null,\"value_type\":\"float\"},{\"default\":null,\"des\":\"\",\"name\":\"OriginAirportID\",\"range\":null,\"required\":false,\"type\":\"input\",\"value\":null,\"value_type\":\"int\"},{\"default\":null,\"des\":\"\",\"name\":\"DestAirportID\",\"range\":null,\"required\":false,\"type\":\"input\",\"value\":null,\"value_type\":\"int\"},{\"default\":null,\"des\":\"\",\"name\":\"CRSDepTime\",\"range\":null,\"required\":false,\"type\":\"input\",\"value\":null,\"value_type\":\"int\"},{\"default\":null,\"des\":\"\",\"name\":\"CRSArrTime\",\"range\":null,\"required\":false,\"type\":\"input\",\"value\":null,\"value_type\":\"int\"},{\"default\":null,\"des\":\"\",\"name\":\"Visibility_x\",\"range\":null,\"required\":false,\"type\":\"input\",\"value\":null,\"value_type\":\"float\"},{\"default\":null,\"des\":\"\",\"name\":\"DryBulbFarenheit_x\",\"range\":null,\"required\":false,\"type\":\"input\",\"value\":null,\"value_type\":\"float\"},{\"default\":null,\"des\":\"\",\"name\":\"DryBulbCelsius_x\",\"range\":null,\"required\":false,\"type\":\"input\",\"value\":null,\"value_type\":\"float\"}]'\n",
    "conf = json_parser(conf)\n",
    "result = predict('zhaofengli/flight_delay_prediction', conf)"
   ]
  },
  {
   "cell_type": "code",
   "execution_count": null,
   "metadata": {},
   "outputs": [],
   "source": []
  }
 ],
 "metadata": {
  "kernelspec": {
   "display_name": "Python 3",
   "language": "python",
   "name": "python3"
  },
  "language_info": {
   "codemirror_mode": {
    "name": "ipython",
    "version": 3
   },
   "file_extension": ".py",
   "mimetype": "text/x-python",
   "name": "python",
   "nbconvert_exporter": "python",
   "pygments_lexer": "ipython3",
   "version": "3.6.3"
  }
 },
 "nbformat": 4,
 "nbformat_minor": 2
}
