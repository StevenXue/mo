{
 "cells": [
  {
   "cell_type": "code",
   "execution_count": 1,
   "metadata": {},
   "outputs": [],
   "source": [
    "# Please use current (work) folder to store your data and models\n",
    "import os\n",
    "import sys\n",
    "sys.path.append('../')\n",
    "\n",
    "from modules import json_parser\n",
    "from modules import Client\n",
    "\n",
    "client = Client('fackAPI')\n",
    "run = client.run\n",
    "train = client.train\n",
    "predict = client.predict"
   ]
  },
  {
   "cell_type": "code",
   "execution_count": null,
   "metadata": {},
   "outputs": [],
   "source": [
    "conf = '{\"data_path\":\"1\",\"model_read_path\":\"1\",\"weight_read_path\":\"1\",\"model_save_path\":\"1\",\"weight_save_path\":\"1\",\"log_dir\":\"1\"}'\n",
    "conf = json_parser(conf)\n",
    "print(conf)"
   ]
  },
  {
   "cell_type": "code",
   "execution_count": null,
   "metadata": {},
   "outputs": [],
   "source": [
    "%%capture output\n",
    "# The output of code below this command would be captured\n",
    "# and could be restored using 'output.show()'\n"
   ]
  },
  {
   "cell_type": "code",
   "execution_count": null,
   "metadata": {},
   "outputs": [],
   "source": [
    "result = train('zhaofengli/face_feature_module', conf)"
   ]
  },
  {
   "cell_type": "code",
   "execution_count": null,
   "metadata": {},
   "outputs": [],
   "source": []
  },
  {
   "cell_type": "code",
   "execution_count": null,
   "metadata": {},
   "outputs": [],
   "source": [
    "conf = '{\"data_path\":\"1\",\"model_read_path\":\"1\",\"weight_read_path\":\"1\",\"model_save_path\":\"1\",\"weight_save_path\":\"1\",\"log_dir\":\"1\"}'\n",
    "conf = json_parser(conf)\n",
    "print(conf)"
   ]
  },
  {
   "cell_type": "code",
   "execution_count": null,
   "metadata": {},
   "outputs": [],
   "source": [
    "%%capture output\n",
    "# The output of code below this command would be captured\n",
    "# and could be restored using 'output.show()'\n"
   ]
  },
  {
   "cell_type": "code",
   "execution_count": null,
   "metadata": {},
   "outputs": [],
   "source": [
    "result = train('zhaofengli/face_feature_module', conf)"
   ]
  },
  {
   "cell_type": "raw",
   "metadata": {},
   "source": [
    "output.show()\n",
    "# The captured output can be printed by running this code"
   ]
  }
 ],
 "metadata": {
  "kernelspec": {
   "display_name": "Python 3",
   "language": "python",
   "name": "python3"
  },
  "language_info": {
   "codemirror_mode": {
    "name": "ipython",
    "version": 3
   },
   "file_extension": ".py",
   "mimetype": "text/x-python",
   "name": "python",
   "nbconvert_exporter": "python",
   "pygments_lexer": "ipython3",
   "version": "3.6.3"
  }
 },
 "nbformat": 4,
 "nbformat_minor": 2
}
