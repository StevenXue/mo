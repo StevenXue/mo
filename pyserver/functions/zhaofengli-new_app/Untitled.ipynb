{
 "cells": [
  {
   "cell_type": "code",
   "execution_count": 1,
   "metadata": {},
   "outputs": [],
   "source": [
    "# Please use current (work) folder to store your data and models\n",
    "import os\n",
    "import sys\n",
    "sys.path.append('../')\n",
    "\n",
    "from modules import json_parser\n",
    "from modules import Client\n",
    "\n",
    "client = Client('fackAPI')\n",
    "run = client.run\n",
    "train = client.train\n",
    "predict = client.predict"
   ]
  },
  {
   "cell_type": "code",
   "execution_count": null,
   "metadata": {},
   "outputs": [],
   "source": [
    "conf = '[{\"default\":null,\"des\":\"\",\"name\":\"flight_no\",\"range\":null,\"required\":false,\"type\":\"input\",\"value\":111,\"value_type\":\"int\"},{\"default\":null,\"des\":\"\",\"name\":\"flight_date\",\"range\":null,\"required\":false,\"type\":\"input\",\"value\":111,\"value_type\":\"int\"}]'\n",
    "conf = json_parser(conf)\n",
    "weather_predict = predict('zhaofengli/weather_prediction', conf)"
   ]
  },
  {
   "cell_type": "code",
   "execution_count": 3,
   "metadata": {},
   "outputs": [
    {
     "data": {
      "text/plain": [
       "{'Altimeter_x': {0: 34.81511696026942},\n",
       " 'Altimeter_y': {0: 16.382893455285178},\n",
       " 'CRSArrTime': {0: 982},\n",
       " 'CRSDepTime': {0: 50},\n",
       " 'DayOfWeek': {0: 7},\n",
       " 'DayofMonth': {0: 6},\n",
       " 'DestAirportID': {0: 13303},\n",
       " 'DewPointCelsius_x': {0: 5.903486137679623},\n",
       " 'DewPointCelsius_y': {0: 14.686587098738258},\n",
       " 'DewPointFarenheit_x': {0: 40.177764876066796},\n",
       " 'DewPointFarenheit_y': {0: 41.61673025693551},\n",
       " 'DryBulbCelsius_x': {0: 16.865800189699343},\n",
       " 'DryBulbCelsius_y': {0: 9.188179428372},\n",
       " 'DryBulbFarenheit_x': {0: 70.2257884128398},\n",
       " 'DryBulbFarenheit_y': {0: 54.97389204271229},\n",
       " 'OriginAirportID': {0: 11433},\n",
       " 'RelativeHumidity_x': {0: 57.67069916644047},\n",
       " 'RelativeHumidity_y': {0: 55.554926600775396},\n",
       " 'Visibility_x': {0: 4.415771634324792},\n",
       " 'Visibility_y': {0: 14.32382713625572},\n",
       " 'WindSpeed_x': {0: 37.07656400783608},\n",
       " 'WindSpeed_y': {0: 20.50719875840732}}"
      ]
     },
     "execution_count": 3,
     "metadata": {},
     "output_type": "execute_result"
    }
   ],
   "source": [
    "import pandas as pd\n",
    "\n",
    "weather_predict = pd.DataFrame([weather_predict])\n",
    "weather_predict = weather_predict.to_dict()\n",
    "weather_predict"
   ]
  },
  {
   "cell_type": "code",
   "execution_count": 4,
   "metadata": {},
   "outputs": [
    {
     "name": "stdout",
     "output_type": "stream",
     "text": [
      "[[ 34.81511696  16.38289346 982.          50.           7.\n",
      "    6.           5.90348614  14.6865871   40.17776488  41.61673026\n",
      "   16.86580019   9.18817943  70.22578841  54.97389204  57.67069917\n",
      "   55.5549266    4.41577163  14.32382714  37.07656401  20.50719876]]\n"
     ]
    },
    {
     "name": "stderr",
     "output_type": "stream",
     "text": [
      "/home/jovyan/.local/share/virtualenvs/jovyan-WPEzXS6U/lib/python3.6/site-packages/sklearn/base.py:315: UserWarning: Trying to unpickle estimator Imputer from version 0.19.1 when using version 0.18.2. This might lead to breaking code or invalid results. Use at your own risk.\n",
      "  UserWarning)\n",
      "/home/jovyan/.local/share/virtualenvs/jovyan-WPEzXS6U/lib/python3.6/site-packages/sklearn/base.py:315: UserWarning: Trying to unpickle estimator StandardScaler from version 0.19.1 when using version 0.18.2. This might lead to breaking code or invalid results. Use at your own risk.\n",
      "  UserWarning)\n",
      "/home/jovyan/.local/share/virtualenvs/jovyan-WPEzXS6U/lib/python3.6/site-packages/sklearn/base.py:315: UserWarning: Trying to unpickle estimator Pipeline from version 0.19.1 when using version 0.18.2. This might lead to breaking code or invalid results. Use at your own risk.\n",
      "  UserWarning)\n",
      "/home/jovyan/.local/share/virtualenvs/jovyan-WPEzXS6U/lib/python3.6/site-packages/sklearn/base.py:315: UserWarning: Trying to unpickle estimator OneHotEncoder from version 0.19.1 when using version 0.18.2. This might lead to breaking code or invalid results. Use at your own risk.\n",
      "  UserWarning)\n",
      "/home/jovyan/.local/share/virtualenvs/jovyan-WPEzXS6U/lib/python3.6/site-packages/sklearn/base.py:315: UserWarning: Trying to unpickle estimator LogisticRegression from version 0.19.1 when using version 0.18.2. This might lead to breaking code or invalid results. Use at your own risk.\n",
      "  UserWarning)\n"
     ]
    }
   ],
   "source": [
    "# conf = '[{\"default\":null,\"des\":\"\",\"name\":\"DayofMonth,\",\"range\":null,\"required\":false,\"type\":\"input\",\"value\":null,\"value_type\":\"int\"},{\"default\":null,\"des\":\"\",\"name\":\"DewPointFarenheit_x\",\"range\":null,\"required\":false,\"type\":\"input\",\"value\":null,\"value_type\":\"float\"},{\"default\":null,\"des\":\"\",\"name\":\"DewPointCelsius_x\",\"range\":null,\"required\":false,\"type\":\"input\",\"value\":null,\"value_type\":\"float\"},{\"default\":null,\"des\":\"\",\"name\":\"RelativeHumidity_x\",\"range\":null,\"required\":false,\"type\":\"input\",\"value\":null,\"value_type\":\"float\"},{\"default\":null,\"des\":\"\",\"name\":\"WindSpeed_x\",\"range\":null,\"required\":false,\"type\":\"input\",\"value\":null,\"value_type\":\"float\"},{\"default\":null,\"des\":\"\",\"name\":\"Altimeter_x\",\"range\":null,\"required\":false,\"type\":\"input\",\"value\":null,\"value_type\":\"float\"},{\"default\":null,\"des\":\"\",\"name\":\"Visibility_y\",\"range\":null,\"required\":false,\"type\":\"input\",\"value\":null,\"value_type\":\"float\"},{\"default\":null,\"des\":\"\",\"name\":\"DryBulbFarenheit_y\",\"range\":null,\"required\":false,\"type\":\"input\",\"value\":null,\"value_type\":\"float\"},{\"default\":null,\"des\":\"\",\"name\":\"DryBulbCelsius_y\",\"range\":null,\"required\":false,\"type\":\"input\",\"value\":null,\"value_type\":\"float\"},{\"default\":null,\"des\":\"\",\"name\":\"DewPointFarenheit_y\",\"range\":null,\"required\":false,\"type\":\"input\",\"value\":null,\"value_type\":\"float\"},{\"default\":null,\"des\":\"\",\"name\":\"DewPointCelsius_y\",\"range\":null,\"required\":false,\"type\":\"input\",\"value\":null,\"value_type\":\"float\"},{\"default\":null,\"des\":\"\",\"name\":\"DayOfWeek\",\"range\":null,\"required\":false,\"type\":\"input\",\"value\":null,\"value_type\":\"int\"},{\"default\":null,\"des\":\"\",\"name\":\"RelativeHumidity_y\",\"range\":null,\"required\":false,\"type\":\"input\",\"value\":null,\"value_type\":\"float\"},{\"default\":null,\"des\":\"\",\"name\":\"WindSpeed_y\",\"range\":null,\"required\":false,\"type\":\"input\",\"value\":null,\"value_type\":\"float\"},{\"default\":null,\"des\":\"\",\"name\":\"Altimeter_y\",\"range\":null,\"required\":false,\"type\":\"input\",\"value\":null,\"value_type\":\"float\"},{\"default\":null,\"des\":\"\",\"name\":\"OriginAirportID\",\"range\":null,\"required\":false,\"type\":\"input\",\"value\":null,\"value_type\":\"int\"},{\"default\":null,\"des\":\"\",\"name\":\"DestAirportID\",\"range\":null,\"required\":false,\"type\":\"input\",\"value\":null,\"value_type\":\"int\"},{\"default\":null,\"des\":\"\",\"name\":\"CRSDepTime\",\"range\":null,\"required\":false,\"type\":\"input\",\"value\":null,\"value_type\":\"int\"},{\"default\":null,\"des\":\"\",\"name\":\"CRSArrTime\",\"range\":null,\"required\":false,\"type\":\"input\",\"value\":null,\"value_type\":\"int\"},{\"default\":null,\"des\":\"\",\"name\":\"Visibility_x\",\"range\":null,\"required\":false,\"type\":\"input\",\"value\":null,\"value_type\":\"float\"},{\"default\":null,\"des\":\"\",\"name\":\"DryBulbFarenheit_x\",\"range\":null,\"required\":false,\"type\":\"input\",\"value\":null,\"value_type\":\"float\"},{\"default\":null,\"des\":\"\",\"name\":\"DryBulbCelsius_x\",\"range\":null,\"required\":false,\"type\":\"input\",\"value\":null,\"value_type\":\"float\"}]'\n",
    "# conf = json_parser(conf)\n",
    "result = predict('zhaofengli/flight_delay_prediction', weather_predict)"
   ]
  },
  {
   "cell_type": "code",
   "execution_count": 5,
   "metadata": {},
   "outputs": [
    {
     "data": {
      "text/plain": [
       "array([1.])"
      ]
     },
     "execution_count": 5,
     "metadata": {},
     "output_type": "execute_result"
    }
   ],
   "source": [
    "result"
   ]
  },
  {
   "cell_type": "code",
   "execution_count": null,
   "metadata": {},
   "outputs": [],
   "source": []
  }
 ],
 "metadata": {
  "kernelspec": {
   "display_name": "Python 3",
   "language": "python",
   "name": "python3"
  },
  "language_info": {
   "codemirror_mode": {
    "name": "ipython",
    "version": 3
   },
   "file_extension": ".py",
   "mimetype": "text/x-python",
   "name": "python",
   "nbconvert_exporter": "python",
   "pygments_lexer": "ipython3",
   "version": "3.6.3"
  }
 },
 "nbformat": 4,
 "nbformat_minor": 2
}
