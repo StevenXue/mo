{
 "cells": [
  {
   "cell_type": "code",
   "execution_count": 1,
   "metadata": {},
   "outputs": [],
   "source": [
    "# Please use current (work) folder to store your data and models\n",
    "import os\n",
    "import sys\n",
    "sys.path.append('../')\n",
    "\n",
    "from modules import json_parser\n",
    "from modules import Client\n",
    "\n",
    "client = Client('fackAPI')\n",
    "run = client.run\n",
    "train = client.train\n",
    "predict = client.predict"
   ]
  },
  {
   "cell_type": "code",
   "execution_count": 2,
   "metadata": {},
   "outputs": [
    {
     "name": "stdout",
     "output_type": "stream",
     "text": [
      "1111\n"
     ]
    }
   ],
   "source": [
    "conf = '[{\"default\":null,\"des\":\"\",\"name\":\"flight_no\",\"range\":null,\"required\":false,\"type\":\"input\",\"value\":111,\"value_type\":\"int\"},{\"default\":null,\"des\":\"\",\"name\":\"flight_date\",\"range\":null,\"required\":false,\"type\":\"input\",\"value\":111,\"value_type\":\"int\"}]'\n",
    "conf = json_parser(conf)\n",
    "weather_predict = predict('zhaofengli/weather_prediction', conf)"
   ]
  },
  {
   "cell_type": "code",
   "execution_count": 4,
   "metadata": {},
   "outputs": [
    {
     "data": {
      "text/plain": [
       "{'Altimeter_x': {0: {0: 34.81511696026942}},\n",
       " 'Altimeter_y': {0: {0: 16.382893455285178}},\n",
       " 'CRSArrTime': {0: {0: 982}},\n",
       " 'CRSDepTime': {0: {0: 50}},\n",
       " 'DayOfWeek': {0: {0: 7}},\n",
       " 'DayofMonth': {0: {0: 6}},\n",
       " 'DestAirportID': {0: {0: 13303}},\n",
       " 'DewPointCelsius_x': {0: {0: 5.903486137679623}},\n",
       " 'DewPointCelsius_y': {0: {0: 14.686587098738258}},\n",
       " 'DewPointFarenheit_x': {0: {0: 40.177764876066796}},\n",
       " 'DewPointFarenheit_y': {0: {0: 41.61673025693551}},\n",
       " 'DryBulbCelsius_x': {0: {0: 16.865800189699343}},\n",
       " 'DryBulbCelsius_y': {0: {0: 9.188179428372}},\n",
       " 'DryBulbFarenheit_x': {0: {0: 70.2257884128398}},\n",
       " 'DryBulbFarenheit_y': {0: {0: 54.97389204271229}},\n",
       " 'OriginAirportID': {0: {0: 11433}},\n",
       " 'RelativeHumidity_x': {0: {0: 57.67069916644047}},\n",
       " 'RelativeHumidity_y': {0: {0: 55.554926600775396}},\n",
       " 'Visibility_x': {0: {0: 4.415771634324792}},\n",
       " 'Visibility_y': {0: {0: 14.32382713625572}},\n",
       " 'WindSpeed_x': {0: {0: 37.07656400783608}},\n",
       " 'WindSpeed_y': {0: {0: 20.50719875840732}}}"
      ]
     },
     "execution_count": 4,
     "metadata": {},
     "output_type": "execute_result"
    }
   ],
   "source": [
    "import pandas as pd\n",
    "\n",
    "weather_predict = pd.DataFrame([weather_predict])\n",
    "weather_predict = weather_predict.to_dict()\n",
    "weather_predict"
   ]
  },
  {
   "cell_type": "code",
   "execution_count": 6,
   "metadata": {},
   "outputs": [
    {
     "name": "stderr",
     "output_type": "stream",
     "text": [
      "/home/jovyan/.local/share/virtualenvs/jovyan-WPEzXS6U/lib/python3.6/site-packages/sklearn/base.py:315: UserWarning: Trying to unpickle estimator Imputer from version 0.19.1 when using version 0.18.2. This might lead to breaking code or invalid results. Use at your own risk.\n",
      "  UserWarning)\n",
      "/home/jovyan/.local/share/virtualenvs/jovyan-WPEzXS6U/lib/python3.6/site-packages/sklearn/base.py:315: UserWarning: Trying to unpickle estimator StandardScaler from version 0.19.1 when using version 0.18.2. This might lead to breaking code or invalid results. Use at your own risk.\n",
      "  UserWarning)\n",
      "/home/jovyan/.local/share/virtualenvs/jovyan-WPEzXS6U/lib/python3.6/site-packages/sklearn/base.py:315: UserWarning: Trying to unpickle estimator Pipeline from version 0.19.1 when using version 0.18.2. This might lead to breaking code or invalid results. Use at your own risk.\n",
      "  UserWarning)\n",
      "/home/jovyan/.local/share/virtualenvs/jovyan-WPEzXS6U/lib/python3.6/site-packages/sklearn/base.py:315: UserWarning: Trying to unpickle estimator OneHotEncoder from version 0.19.1 when using version 0.18.2. This might lead to breaking code or invalid results. Use at your own risk.\n",
      "  UserWarning)\n",
      "/home/jovyan/.local/share/virtualenvs/jovyan-WPEzXS6U/lib/python3.6/site-packages/sklearn/base.py:315: UserWarning: Trying to unpickle estimator LogisticRegression from version 0.19.1 when using version 0.18.2. This might lead to breaking code or invalid results. Use at your own risk.\n",
      "  UserWarning)\n"
     ]
    },
    {
     "ename": "TypeError",
     "evalue": "float() argument must be a string or a number, not 'dict'",
     "output_type": "error",
     "traceback": [
      "\u001b[0;31m---------------------------------------------------------------------------\u001b[0m",
      "\u001b[0;31mTypeError\u001b[0m                                 Traceback (most recent call last)",
      "\u001b[0;32m<ipython-input-6-b0df0d6b63b7>\u001b[0m in \u001b[0;36m<module>\u001b[0;34m()\u001b[0m\n\u001b[1;32m      1\u001b[0m \u001b[0;31m# conf = '[{\"default\":null,\"des\":\"\",\"name\":\"DayofMonth,\",\"range\":null,\"required\":false,\"type\":\"input\",\"value\":null,\"value_type\":\"int\"},{\"default\":null,\"des\":\"\",\"name\":\"DewPointFarenheit_x\",\"range\":null,\"required\":false,\"type\":\"input\",\"value\":null,\"value_type\":\"float\"},{\"default\":null,\"des\":\"\",\"name\":\"DewPointCelsius_x\",\"range\":null,\"required\":false,\"type\":\"input\",\"value\":null,\"value_type\":\"float\"},{\"default\":null,\"des\":\"\",\"name\":\"RelativeHumidity_x\",\"range\":null,\"required\":false,\"type\":\"input\",\"value\":null,\"value_type\":\"float\"},{\"default\":null,\"des\":\"\",\"name\":\"WindSpeed_x\",\"range\":null,\"required\":false,\"type\":\"input\",\"value\":null,\"value_type\":\"float\"},{\"default\":null,\"des\":\"\",\"name\":\"Altimeter_x\",\"range\":null,\"required\":false,\"type\":\"input\",\"value\":null,\"value_type\":\"float\"},{\"default\":null,\"des\":\"\",\"name\":\"Visibility_y\",\"range\":null,\"required\":false,\"type\":\"input\",\"value\":null,\"value_type\":\"float\"},{\"default\":null,\"des\":\"\",\"name\":\"DryBulbFarenheit_y\",\"range\":null,\"required\":false,\"type\":\"input\",\"value\":null,\"value_type\":\"float\"},{\"default\":null,\"des\":\"\",\"name\":\"DryBulbCelsius_y\",\"range\":null,\"required\":false,\"type\":\"input\",\"value\":null,\"value_type\":\"float\"},{\"default\":null,\"des\":\"\",\"name\":\"DewPointFarenheit_y\",\"range\":null,\"required\":false,\"type\":\"input\",\"value\":null,\"value_type\":\"float\"},{\"default\":null,\"des\":\"\",\"name\":\"DewPointCelsius_y\",\"range\":null,\"required\":false,\"type\":\"input\",\"value\":null,\"value_type\":\"float\"},{\"default\":null,\"des\":\"\",\"name\":\"DayOfWeek\",\"range\":null,\"required\":false,\"type\":\"input\",\"value\":null,\"value_type\":\"int\"},{\"default\":null,\"des\":\"\",\"name\":\"RelativeHumidity_y\",\"range\":null,\"required\":false,\"type\":\"input\",\"value\":null,\"value_type\":\"float\"},{\"default\":null,\"des\":\"\",\"name\":\"WindSpeed_y\",\"range\":null,\"required\":false,\"type\":\"input\",\"value\":null,\"value_type\":\"float\"},{\"default\":null,\"des\":\"\",\"name\":\"Altimeter_y\",\"range\":null,\"required\":false,\"type\":\"input\",\"value\":null,\"value_type\":\"float\"},{\"default\":null,\"des\":\"\",\"name\":\"OriginAirportID\",\"range\":null,\"required\":false,\"type\":\"input\",\"value\":null,\"value_type\":\"int\"},{\"default\":null,\"des\":\"\",\"name\":\"DestAirportID\",\"range\":null,\"required\":false,\"type\":\"input\",\"value\":null,\"value_type\":\"int\"},{\"default\":null,\"des\":\"\",\"name\":\"CRSDepTime\",\"range\":null,\"required\":false,\"type\":\"input\",\"value\":null,\"value_type\":\"int\"},{\"default\":null,\"des\":\"\",\"name\":\"CRSArrTime\",\"range\":null,\"required\":false,\"type\":\"input\",\"value\":null,\"value_type\":\"int\"},{\"default\":null,\"des\":\"\",\"name\":\"Visibility_x\",\"range\":null,\"required\":false,\"type\":\"input\",\"value\":null,\"value_type\":\"float\"},{\"default\":null,\"des\":\"\",\"name\":\"DryBulbFarenheit_x\",\"range\":null,\"required\":false,\"type\":\"input\",\"value\":null,\"value_type\":\"float\"},{\"default\":null,\"des\":\"\",\"name\":\"DryBulbCelsius_x\",\"range\":null,\"required\":false,\"type\":\"input\",\"value\":null,\"value_type\":\"float\"}]'\u001b[0m\u001b[0;34m\u001b[0m\u001b[0;34m\u001b[0m\u001b[0m\n\u001b[1;32m      2\u001b[0m \u001b[0;31m# conf = json_parser(conf)\u001b[0m\u001b[0;34m\u001b[0m\u001b[0;34m\u001b[0m\u001b[0m\n\u001b[0;32m----> 3\u001b[0;31m \u001b[0mresult\u001b[0m \u001b[0;34m=\u001b[0m \u001b[0mpredict\u001b[0m\u001b[0;34m(\u001b[0m\u001b[0;34m'zhaofengli/flight_delay_prediction'\u001b[0m\u001b[0;34m,\u001b[0m \u001b[0mweather_predict\u001b[0m\u001b[0;34m)\u001b[0m\u001b[0;34m\u001b[0m\u001b[0m\n\u001b[0m",
      "\u001b[0;32m/home/jovyan/modules/__init__.py\u001b[0m in \u001b[0;36mpredict\u001b[0;34m(self, module_id, *args, **kwargs)\u001b[0m\n\u001b[1;32m     56\u001b[0m             \u001b[0;32mwith\u001b[0m \u001b[0mHiddenPrints\u001b[0m\u001b[0;34m(\u001b[0m\u001b[0;34m)\u001b[0m\u001b[0;34m:\u001b[0m\u001b[0;34m\u001b[0m\u001b[0m\n\u001b[1;32m     57\u001b[0m                 \u001b[0;32mreturn\u001b[0m \u001b[0mmodule_general\u001b[0m\u001b[0;34m(\u001b[0m\u001b[0mmodule_id\u001b[0m\u001b[0;34m,\u001b[0m \u001b[0;34m'predict'\u001b[0m\u001b[0;34m,\u001b[0m \u001b[0;34m*\u001b[0m\u001b[0margs\u001b[0m\u001b[0;34m,\u001b[0m \u001b[0;34m**\u001b[0m\u001b[0mkwargs\u001b[0m\u001b[0;34m)\u001b[0m\u001b[0;34m\u001b[0m\u001b[0m\n\u001b[0;32m---> 58\u001b[0;31m         \u001b[0;32mreturn\u001b[0m \u001b[0mmodule_general\u001b[0m\u001b[0;34m(\u001b[0m\u001b[0mmodule_id\u001b[0m\u001b[0;34m,\u001b[0m \u001b[0;34m'predict'\u001b[0m\u001b[0;34m,\u001b[0m \u001b[0;34m*\u001b[0m\u001b[0margs\u001b[0m\u001b[0;34m,\u001b[0m \u001b[0;34m**\u001b[0m\u001b[0mkwargs\u001b[0m\u001b[0;34m)\u001b[0m\u001b[0;34m\u001b[0m\u001b[0m\n\u001b[0m",
      "\u001b[0;32m/home/jovyan/modules/__init__.py\u001b[0m in \u001b[0;36mmodule_general\u001b[0;34m(module_id, action, *args, **kwargs)\u001b[0m\n\u001b[1;32m     21\u001b[0m     \u001b[0mcls\u001b[0m \u001b[0;34m=\u001b[0m \u001b[0mgetattr\u001b[0m\u001b[0;34m(\u001b[0m\u001b[0mmain_module\u001b[0m\u001b[0;34m,\u001b[0m \u001b[0mmodule_name\u001b[0m\u001b[0;34m)\u001b[0m\u001b[0;34m(\u001b[0m\u001b[0;34m)\u001b[0m\u001b[0;34m\u001b[0m\u001b[0m\n\u001b[1;32m     22\u001b[0m     \u001b[0;32mtry\u001b[0m\u001b[0;34m:\u001b[0m\u001b[0;34m\u001b[0m\u001b[0m\n\u001b[0;32m---> 23\u001b[0;31m         \u001b[0;32mreturn\u001b[0m \u001b[0mgetattr\u001b[0m\u001b[0;34m(\u001b[0m\u001b[0mcls\u001b[0m\u001b[0;34m,\u001b[0m \u001b[0maction\u001b[0m\u001b[0;34m)\u001b[0m\u001b[0;34m(\u001b[0m\u001b[0;34m*\u001b[0m\u001b[0margs\u001b[0m\u001b[0;34m,\u001b[0m \u001b[0;34m**\u001b[0m\u001b[0mkwargs\u001b[0m\u001b[0;34m)\u001b[0m\u001b[0;34m\u001b[0m\u001b[0m\n\u001b[0m\u001b[1;32m     24\u001b[0m     \u001b[0;32mexcept\u001b[0m \u001b[0mAttributeError\u001b[0m\u001b[0;34m:\u001b[0m\u001b[0;34m\u001b[0m\u001b[0m\n\u001b[1;32m     25\u001b[0m         \u001b[0;32mraise\u001b[0m \u001b[0mAttributeError\u001b[0m\u001b[0;34m(\u001b[0m\u001b[0;34m\"Module doesn't have method '{}'.\"\u001b[0m\u001b[0;34m.\u001b[0m\u001b[0mformat\u001b[0m\u001b[0;34m(\u001b[0m\u001b[0maction\u001b[0m\u001b[0;34m)\u001b[0m\u001b[0;34m)\u001b[0m\u001b[0;34m\u001b[0m\u001b[0m\n",
      "\u001b[0;32m/home/jovyan/modules/zhaofengli/flight_delay_prediction/src/main.py\u001b[0m in \u001b[0;36mpredict\u001b[0;34m(self, feed)\u001b[0m\n\u001b[1;32m     68\u001b[0m         \u001b[0mnum_attribs\u001b[0m \u001b[0;34m=\u001b[0m \u001b[0;34m[\u001b[0m\u001b[0mi\u001b[0m \u001b[0;32mfor\u001b[0m \u001b[0mi\u001b[0m \u001b[0;32min\u001b[0m \u001b[0mallfeatures\u001b[0m \u001b[0;32mif\u001b[0m \u001b[0mi\u001b[0m \u001b[0;32mnot\u001b[0m \u001b[0;32min\u001b[0m \u001b[0mcat_attribs\u001b[0m\u001b[0;34m]\u001b[0m\u001b[0;34m\u001b[0m\u001b[0m\n\u001b[1;32m     69\u001b[0m \u001b[0;34m\u001b[0m\u001b[0m\n\u001b[0;32m---> 70\u001b[0;31m         \u001b[0mdata_num_prepared\u001b[0m \u001b[0;34m=\u001b[0m \u001b[0mself\u001b[0m\u001b[0;34m.\u001b[0m\u001b[0mnum_pipeline\u001b[0m\u001b[0;34m.\u001b[0m\u001b[0mtransform\u001b[0m\u001b[0;34m(\u001b[0m\u001b[0mpredict_data\u001b[0m\u001b[0;34m[\u001b[0m\u001b[0mnum_attribs\u001b[0m\u001b[0;34m]\u001b[0m\u001b[0;34m.\u001b[0m\u001b[0mvalues\u001b[0m\u001b[0;34m)\u001b[0m\u001b[0;34m\u001b[0m\u001b[0m\n\u001b[0m\u001b[1;32m     71\u001b[0m         \u001b[0mdata_cat_prepared\u001b[0m \u001b[0;34m=\u001b[0m \u001b[0mself\u001b[0m\u001b[0;34m.\u001b[0m\u001b[0mcat_pipeline\u001b[0m\u001b[0;34m.\u001b[0m\u001b[0mtransform\u001b[0m\u001b[0;34m(\u001b[0m\u001b[0mpredict_data\u001b[0m\u001b[0;34m[\u001b[0m\u001b[0mcat_attribs\u001b[0m\u001b[0;34m]\u001b[0m\u001b[0;34m.\u001b[0m\u001b[0mvalues\u001b[0m\u001b[0;34m)\u001b[0m\u001b[0;34m\u001b[0m\u001b[0m\n\u001b[1;32m     72\u001b[0m         data_prepared = np.concatenate(\n",
      "\u001b[0;32m/home/jovyan/.local/share/virtualenvs/jovyan-WPEzXS6U/lib/python3.6/site-packages/sklearn/pipeline.py\u001b[0m in \u001b[0;36m_transform\u001b[0;34m(self, X)\u001b[0m\n\u001b[1;32m    443\u001b[0m         \u001b[0;32mfor\u001b[0m \u001b[0mname\u001b[0m\u001b[0;34m,\u001b[0m \u001b[0mtransform\u001b[0m \u001b[0;32min\u001b[0m \u001b[0mself\u001b[0m\u001b[0;34m.\u001b[0m\u001b[0msteps\u001b[0m\u001b[0;34m:\u001b[0m\u001b[0;34m\u001b[0m\u001b[0m\n\u001b[1;32m    444\u001b[0m             \u001b[0;32mif\u001b[0m \u001b[0mtransform\u001b[0m \u001b[0;32mis\u001b[0m \u001b[0;32mnot\u001b[0m \u001b[0;32mNone\u001b[0m\u001b[0;34m:\u001b[0m\u001b[0;34m\u001b[0m\u001b[0m\n\u001b[0;32m--> 445\u001b[0;31m                 \u001b[0mXt\u001b[0m \u001b[0;34m=\u001b[0m \u001b[0mtransform\u001b[0m\u001b[0;34m.\u001b[0m\u001b[0mtransform\u001b[0m\u001b[0;34m(\u001b[0m\u001b[0mXt\u001b[0m\u001b[0;34m)\u001b[0m\u001b[0;34m\u001b[0m\u001b[0m\n\u001b[0m\u001b[1;32m    446\u001b[0m         \u001b[0;32mreturn\u001b[0m \u001b[0mXt\u001b[0m\u001b[0;34m\u001b[0m\u001b[0m\n\u001b[1;32m    447\u001b[0m \u001b[0;34m\u001b[0m\u001b[0m\n",
      "\u001b[0;32m/home/jovyan/.local/share/virtualenvs/jovyan-WPEzXS6U/lib/python3.6/site-packages/sklearn/preprocessing/imputation.py\u001b[0m in \u001b[0;36mtransform\u001b[0;34m(self, X)\u001b[0m\n\u001b[1;32m    311\u001b[0m             \u001b[0mcheck_is_fitted\u001b[0m\u001b[0;34m(\u001b[0m\u001b[0mself\u001b[0m\u001b[0;34m,\u001b[0m \u001b[0;34m'statistics_'\u001b[0m\u001b[0;34m)\u001b[0m\u001b[0;34m\u001b[0m\u001b[0m\n\u001b[1;32m    312\u001b[0m             X = check_array(X, accept_sparse='csc', dtype=FLOAT_DTYPES,\n\u001b[0;32m--> 313\u001b[0;31m                             force_all_finite=False, copy=self.copy)\n\u001b[0m\u001b[1;32m    314\u001b[0m             \u001b[0mstatistics\u001b[0m \u001b[0;34m=\u001b[0m \u001b[0mself\u001b[0m\u001b[0;34m.\u001b[0m\u001b[0mstatistics_\u001b[0m\u001b[0;34m\u001b[0m\u001b[0m\n\u001b[1;32m    315\u001b[0m             \u001b[0;32mif\u001b[0m \u001b[0mX\u001b[0m\u001b[0;34m.\u001b[0m\u001b[0mshape\u001b[0m\u001b[0;34m[\u001b[0m\u001b[0;36m1\u001b[0m\u001b[0;34m]\u001b[0m \u001b[0;34m!=\u001b[0m \u001b[0mstatistics\u001b[0m\u001b[0;34m.\u001b[0m\u001b[0mshape\u001b[0m\u001b[0;34m[\u001b[0m\u001b[0;36m0\u001b[0m\u001b[0;34m]\u001b[0m\u001b[0;34m:\u001b[0m\u001b[0;34m\u001b[0m\u001b[0m\n",
      "\u001b[0;32m/home/jovyan/.local/share/virtualenvs/jovyan-WPEzXS6U/lib/python3.6/site-packages/sklearn/utils/validation.py\u001b[0m in \u001b[0;36mcheck_array\u001b[0;34m(array, accept_sparse, dtype, order, copy, force_all_finite, ensure_2d, allow_nd, ensure_min_samples, ensure_min_features, warn_on_dtype, estimator)\u001b[0m\n\u001b[1;32m    380\u001b[0m                                       force_all_finite)\n\u001b[1;32m    381\u001b[0m     \u001b[0;32melse\u001b[0m\u001b[0;34m:\u001b[0m\u001b[0;34m\u001b[0m\u001b[0m\n\u001b[0;32m--> 382\u001b[0;31m         \u001b[0marray\u001b[0m \u001b[0;34m=\u001b[0m \u001b[0mnp\u001b[0m\u001b[0;34m.\u001b[0m\u001b[0marray\u001b[0m\u001b[0;34m(\u001b[0m\u001b[0marray\u001b[0m\u001b[0;34m,\u001b[0m \u001b[0mdtype\u001b[0m\u001b[0;34m=\u001b[0m\u001b[0mdtype\u001b[0m\u001b[0;34m,\u001b[0m \u001b[0morder\u001b[0m\u001b[0;34m=\u001b[0m\u001b[0morder\u001b[0m\u001b[0;34m,\u001b[0m \u001b[0mcopy\u001b[0m\u001b[0;34m=\u001b[0m\u001b[0mcopy\u001b[0m\u001b[0;34m)\u001b[0m\u001b[0;34m\u001b[0m\u001b[0m\n\u001b[0m\u001b[1;32m    383\u001b[0m \u001b[0;34m\u001b[0m\u001b[0m\n\u001b[1;32m    384\u001b[0m         \u001b[0;32mif\u001b[0m \u001b[0mensure_2d\u001b[0m\u001b[0;34m:\u001b[0m\u001b[0;34m\u001b[0m\u001b[0m\n",
      "\u001b[0;31mTypeError\u001b[0m: float() argument must be a string or a number, not 'dict'"
     ]
    }
   ],
   "source": [
    "# conf = '[{\"default\":null,\"des\":\"\",\"name\":\"DayofMonth,\",\"range\":null,\"required\":false,\"type\":\"input\",\"value\":null,\"value_type\":\"int\"},{\"default\":null,\"des\":\"\",\"name\":\"DewPointFarenheit_x\",\"range\":null,\"required\":false,\"type\":\"input\",\"value\":null,\"value_type\":\"float\"},{\"default\":null,\"des\":\"\",\"name\":\"DewPointCelsius_x\",\"range\":null,\"required\":false,\"type\":\"input\",\"value\":null,\"value_type\":\"float\"},{\"default\":null,\"des\":\"\",\"name\":\"RelativeHumidity_x\",\"range\":null,\"required\":false,\"type\":\"input\",\"value\":null,\"value_type\":\"float\"},{\"default\":null,\"des\":\"\",\"name\":\"WindSpeed_x\",\"range\":null,\"required\":false,\"type\":\"input\",\"value\":null,\"value_type\":\"float\"},{\"default\":null,\"des\":\"\",\"name\":\"Altimeter_x\",\"range\":null,\"required\":false,\"type\":\"input\",\"value\":null,\"value_type\":\"float\"},{\"default\":null,\"des\":\"\",\"name\":\"Visibility_y\",\"range\":null,\"required\":false,\"type\":\"input\",\"value\":null,\"value_type\":\"float\"},{\"default\":null,\"des\":\"\",\"name\":\"DryBulbFarenheit_y\",\"range\":null,\"required\":false,\"type\":\"input\",\"value\":null,\"value_type\":\"float\"},{\"default\":null,\"des\":\"\",\"name\":\"DryBulbCelsius_y\",\"range\":null,\"required\":false,\"type\":\"input\",\"value\":null,\"value_type\":\"float\"},{\"default\":null,\"des\":\"\",\"name\":\"DewPointFarenheit_y\",\"range\":null,\"required\":false,\"type\":\"input\",\"value\":null,\"value_type\":\"float\"},{\"default\":null,\"des\":\"\",\"name\":\"DewPointCelsius_y\",\"range\":null,\"required\":false,\"type\":\"input\",\"value\":null,\"value_type\":\"float\"},{\"default\":null,\"des\":\"\",\"name\":\"DayOfWeek\",\"range\":null,\"required\":false,\"type\":\"input\",\"value\":null,\"value_type\":\"int\"},{\"default\":null,\"des\":\"\",\"name\":\"RelativeHumidity_y\",\"range\":null,\"required\":false,\"type\":\"input\",\"value\":null,\"value_type\":\"float\"},{\"default\":null,\"des\":\"\",\"name\":\"WindSpeed_y\",\"range\":null,\"required\":false,\"type\":\"input\",\"value\":null,\"value_type\":\"float\"},{\"default\":null,\"des\":\"\",\"name\":\"Altimeter_y\",\"range\":null,\"required\":false,\"type\":\"input\",\"value\":null,\"value_type\":\"float\"},{\"default\":null,\"des\":\"\",\"name\":\"OriginAirportID\",\"range\":null,\"required\":false,\"type\":\"input\",\"value\":null,\"value_type\":\"int\"},{\"default\":null,\"des\":\"\",\"name\":\"DestAirportID\",\"range\":null,\"required\":false,\"type\":\"input\",\"value\":null,\"value_type\":\"int\"},{\"default\":null,\"des\":\"\",\"name\":\"CRSDepTime\",\"range\":null,\"required\":false,\"type\":\"input\",\"value\":null,\"value_type\":\"int\"},{\"default\":null,\"des\":\"\",\"name\":\"CRSArrTime\",\"range\":null,\"required\":false,\"type\":\"input\",\"value\":null,\"value_type\":\"int\"},{\"default\":null,\"des\":\"\",\"name\":\"Visibility_x\",\"range\":null,\"required\":false,\"type\":\"input\",\"value\":null,\"value_type\":\"float\"},{\"default\":null,\"des\":\"\",\"name\":\"DryBulbFarenheit_x\",\"range\":null,\"required\":false,\"type\":\"input\",\"value\":null,\"value_type\":\"float\"},{\"default\":null,\"des\":\"\",\"name\":\"DryBulbCelsius_x\",\"range\":null,\"required\":false,\"type\":\"input\",\"value\":null,\"value_type\":\"float\"}]'\n",
    "# conf = json_parser(conf)\n",
    "result = predict('zhaofengli/flight_delay_prediction', weather_predict)"
   ]
  },
  {
   "cell_type": "code",
   "execution_count": null,
   "metadata": {},
   "outputs": [],
   "source": []
  }
 ],
 "metadata": {
  "kernelspec": {
   "display_name": "Python 3",
   "language": "python",
   "name": "python3"
  },
  "language_info": {
   "codemirror_mode": {
    "name": "ipython",
    "version": 3
   },
   "file_extension": ".py",
   "mimetype": "text/x-python",
   "name": "python",
   "nbconvert_exporter": "python",
   "pygments_lexer": "ipython3",
   "version": "3.6.3"
  }
 },
 "nbformat": 4,
 "nbformat_minor": 2
}
